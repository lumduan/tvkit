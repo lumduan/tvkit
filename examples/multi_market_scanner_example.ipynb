{
 "cells": [
  {
   "cell_type": "markdown",
   "id": "r6scg3kxko",
   "source": "# Multi-Market Scanner Example\n\nThis comprehensive notebook demonstrates how to use the `tvkit` scanner service to retrieve market data from various global markets using TradingView's scanner API.\n\n## What you'll learn:\n- Basic market scanning across different countries\n- Comprehensive data retrieval with all available columns\n- Regional market analysis (Asia Pacific focus)\n- Market scanning by ID strings\n- Available markets and regional information\n- Data visualization and analysis techniques\n\n## Prerequisites:\n- Internet connection for TradingView API access\n- Python 3.13+ with asyncio support\n- tvkit library installed",
   "metadata": {}
  },
  {
   "cell_type": "markdown",
   "id": "8pdyi81auif",
   "source": "## Import Required Libraries and Modules",
   "metadata": {}
  },
  {
   "cell_type": "code",
   "id": "west6zvpyma",
   "source": "import asyncio\nimport pandas as pd\nfrom typing import Dict, List\n\n# Import tvkit scanner components\nfrom tvkit.api.scanner.services import ScannerService, create_comprehensive_request\nfrom tvkit.api.scanner.models import ColumnSets, create_scanner_request, StockData\nfrom tvkit.api.scanner.markets import Market, MarketRegion, get_markets_by_region, get_all_markets, MARKET_INFO\n\nprint(\"✅ All imports successful!\")\nprint(f\"📊 Available markets: {len(Market)} markets across {len(MarketRegion)} regions\")",
   "metadata": {},
   "execution_count": null,
   "outputs": []
  },
  {
   "cell_type": "markdown",
   "id": "59u8cy3kakm",
   "source": "## Overview: Multi-Market Scanner Example\n\nThe tvkit scanner service allows you to access TradingView's comprehensive market data across global exchanges. Let's start by exploring the available functionality.",
   "metadata": {}
  },
  {
   "cell_type": "code",
   "id": "gcelaamtf8v",
   "source": "# Display available market regions and sample markets\nprint(\"🌍 Available Market Regions:\")\nprint(\"=\" * 50)\n\nregions = {\n    MarketRegion.NORTH_AMERICA: \"🇺🇸 North America\",\n    MarketRegion.EUROPE: \"🇪🇺 Europe\", \n    MarketRegion.ASIA_PACIFIC: \"🌏 Asia Pacific\",\n    MarketRegion.MIDDLE_EAST_AFRICA: \"🕌 Middle East & Africa\",\n    MarketRegion.MEXICO_SOUTH_AMERICA: \"🌎 Mexico & South America\",\n}\n\nfor region, region_name in regions.items():\n    markets = get_markets_by_region(region)\n    print(f\"{region_name}: {len(markets)} markets\")\n    \n    # Show first 3 examples\n    for market in markets[:3]:\n        info = MARKET_INFO.get(market)\n        if info:\n            print(f\"  • {info.name} ({market.value})\")\n    \n    if len(markets) > 3:\n        print(f\"  ... and {len(markets) - 3} more\")\n    print()",
   "metadata": {},
   "execution_count": null,
   "outputs": []
  },
  {
   "cell_type": "markdown",
   "id": "zqg6nr9l2hn",
   "source": "## Basic Market Scan Example\n\nLet's start with a basic market scan comparing Thailand and USA markets, focusing on volume leaders.",
   "metadata": {}
  },
  {
   "cell_type": "code",
   "id": "70jm72asw9e",
   "source": "async def basic_market_scan_demo():\n    \"\"\"Perform a basic scan of multiple markets.\"\"\"\n    print(\"🌍 Multi-Market Scanner - Basic Example\")\n    print(\"=\" * 50)\n    \n    try:\n        # Create scanner service\n        service = ScannerService()\n        \n        # Create a basic request for top volume stocks\n        request = create_scanner_request(\n            columns=ColumnSets.BASIC,\n            sort_by=\"volume\",\n            sort_order=\"desc\",\n            range_end=10,  # Get top 10 by volume\n        )\n        \n        print(\"Scanning markets for top 10 stocks by volume...\")\n        print(f\"Columns: {', '.join(request.columns)}\")\n        \n        # Scan Thailand market\n        print(\"\\n🇹🇭 Scanning Thailand market...\")\n        thailand_response = await service.scan_market(Market.THAILAND, request)\n        \n        print(f\"✅ Found {len(thailand_response.data)} Thai stocks\")\n        if thailand_response.total_count:\n            print(f\"Total Thai stocks available: {thailand_response.total_count:,}\")\n        \n        # Scan USA market for comparison\n        print(\"\\n🇺🇸 Scanning USA market...\")\n        usa_response = await service.scan_market(Market.AMERICA, request)\n        \n        print(f\"✅ Found {len(usa_response.data)} US stocks\")\n        if usa_response.total_count:\n            print(f\"Total US stocks available: {usa_response.total_count:,}\")\n        \n        # Convert to DataFrames for better display\n        def stocks_to_df(stocks: List[StockData], market_name: str) -> pd.DataFrame:\n            data = []\n            for stock in stocks:\n                data.append({\n                    'Market': market_name,\n                    'Symbol': stock.name,\n                    'Price': stock.close if stock.close else 0,\n                    'Currency': stock.currency or 'N/A',\n                    'Change': stock.change if stock.change else 0,\n                    'Volume': stock.volume if stock.volume else 0,\n                    'Change %': round(stock.change / stock.close * 100, 2) if stock.change and stock.close else 0\n                })\n            return pd.DataFrame(data)\n        \n        # Create comparison DataFrame\n        thailand_df = stocks_to_df(thailand_response.data[:5], \"Thailand\")\n        usa_df = stocks_to_df(usa_response.data[:5], \"USA\")\n        \n        combined_df = pd.concat([thailand_df, usa_df], ignore_index=True)\n        \n        print(\"\\n📊 Top 5 Stocks by Volume - Market Comparison:\")\n        print(combined_df.to_string(index=False))\n        \n        return thailand_response, usa_response\n        \n    except Exception as e:\n        print(f\"❌ Error: {e}\")\n        return None, None\n\n# Run the basic scan\nthailand_data, usa_data = await basic_market_scan_demo()",
   "metadata": {},
   "execution_count": null,
   "outputs": []
  },
  {
   "cell_type": "markdown",
   "id": "nko4ji5qv2",
   "source": "## Comprehensive Market Scan Example\n\nNow let's perform a comprehensive scan using all available data columns, focusing on market capitalization leaders across multiple Asian markets.",
   "metadata": {}
  },
  {
   "cell_type": "code",
   "id": "082d8eltsqq5",
   "source": "async def comprehensive_market_scan_demo():\n    \"\"\"Perform a comprehensive scan with all available data.\"\"\"\n    print(\"🌏 Multi-Market Scanner - Comprehensive Example\")\n    print(\"=\" * 60)\n    \n    try:\n        service = ScannerService()\n        \n        # Use the comprehensive request with all available columns\n        request = create_comprehensive_request(\n            sort_by=\"market_cap_basic\", \n            sort_order=\"desc\", \n            range_end=5  # Top 5 by market cap\n        )\n        \n        print(f\"Using {len(request.columns)} columns for comprehensive analysis...\")\n        print(f\"Sample columns: {', '.join(request.columns[:10])}...\")\n        \n        markets_to_scan = [Market.THAILAND, Market.JAPAN, Market.SINGAPORE, Market.KOREA]\n        comprehensive_results = {}\n        \n        for market in markets_to_scan:\n            market_name = market.value.title()\n            print(f\"\\n🔍 Scanning {market_name} market...\")\n            \n            response = await service.scan_market(market, request)\n            comprehensive_results[market_name] = response.data\n            \n            print(f\"✅ Found {len(response.data)} stocks in {market_name}\")\n            \n            if response.data:\n                stock = response.data[0]  # Top stock by market cap\n                print(f\"\\n📈 Top {market_name} Stock by Market Cap:\")\n                print(f\"   Name: {stock.name}\")\n                print(f\"   Price: {stock.close} {stock.currency}\")\n                \n                if stock.market_cap_basic:\n                    print(f\"   Market Cap: ${stock.market_cap_basic:,.0f}\")\n                else:\n                    print(\"   Market Cap: N/A\")\n                    \n                print(f\"   Sector: {stock.sector or 'N/A'}\")\n                \n                if stock.price_earnings_ttm:\n                    print(f\"   P/E Ratio: {stock.price_earnings_ttm:.2f}\")\n                else:\n                    print(\"   P/E Ratio: N/A\")\n                    \n                if stock.dividends_yield_current:\n                    print(f\"   Dividend Yield: {stock.dividends_yield_current:.2f}%\")\n                    \n                if stock.return_on_equity_fq:\n                    print(f\"   ROE: {stock.return_on_equity_fq:.2f}%\")\n        \n        # Create comprehensive comparison DataFrame\n        comparison_data = []\n        for market_name, stocks in comprehensive_results.items():\n            if stocks:\n                stock = stocks[0]  # Top stock\n                comparison_data.append({\n                    'Market': market_name,\n                    'Symbol': stock.name,\n                    'Price': f\"{stock.close:.2f} {stock.currency}\" if stock.close else \"N/A\",\n                    'Market Cap (USD)': f\"${stock.market_cap_basic:,.0f}\" if stock.market_cap_basic else \"N/A\",\n                    'P/E Ratio': f\"{stock.price_earnings_ttm:.2f}\" if stock.price_earnings_ttm else \"N/A\",\n                    'Sector': stock.sector or \"N/A\",\n                    'Dividend Yield': f\"{stock.dividends_yield_current:.2f}%\" if stock.dividends_yield_current else \"N/A\"\n                })\n        \n        comparison_df = pd.DataFrame(comparison_data)\n        print(\"\\n🏆 Market Leaders Comparison:\")\n        print(\"=\" * 100)\n        print(comparison_df.to_string(index=False))\n        \n        return comprehensive_results\n        \n    except Exception as e:\n        print(f\"❌ Error: {e}\")\n        return {}\n\n# Run the comprehensive scan\ncomprehensive_data = await comprehensive_market_scan_demo()",
   "metadata": {},
   "execution_count": null,
   "outputs": []
  },
  {
   "cell_type": "markdown",
   "id": "xvn652z1yb",
   "source": "## Regional Market Scan Example\n\nLet's focus on Asia Pacific markets and analyze the top stocks by market capitalization across the region.",
   "metadata": {}
  },
  {
   "cell_type": "code",
   "id": "4g7ierk1c3c",
   "source": "async def regional_market_scan_demo():\n    \"\"\"Demonstrate scanning multiple markets by region.\"\"\"\n    print(\"🌍 Regional Market Scanner - Asia Pacific\")\n    print(\"=\" * 50)\n    \n    try:\n        service = ScannerService()\n        \n        # Get Asia Pacific markets\n        asia_markets = get_markets_by_region(MarketRegion.ASIA_PACIFIC)\n        selected_markets = [\n            Market.THAILAND,\n            Market.SINGAPORE, \n            Market.JAPAN,\n            Market.KOREA,\n            Market.AUSTRALIA,\n            Market.INDIA\n        ]\n        \n        # Create request focused on key metrics\n        request = create_scanner_request(\n            columns=ColumnSets.BASIC + [\"market_cap_basic\", \"sector\", \"price_earnings_ttm\"],\n            sort_by=\"market_cap_basic\",\n            sort_order=\"desc\",\n            range_end=3,  # Top 3 from each market\n        )\n        \n        print(f\"Scanning {len(selected_markets)} Asia Pacific markets...\")\n        print(f\"Looking for top 3 stocks by market cap in each market\")\n        \n        all_results: Dict[str, List[StockData]] = {}\n        \n        for market in selected_markets:\n            if market in asia_markets:\n                market_name = market.value.title()\n                print(f\"\\n📊 Scanning {market_name}...\")\n                \n                response = await service.scan_market(market, request)\n                all_results[market.value] = response.data\n                print(f\"   Found {len(response.data)} top stocks\")\n        \n        # Create detailed results DataFrame\n        regional_data = []\n        for market_id, stocks in all_results.items():\n            market_name = market_id.title()\n            for i, stock in enumerate(stocks, 1):\n                regional_data.append({\n                    'Market': market_name,\n                    'Rank': i,\n                    'Symbol': stock.name,\n                    'Price': f\"{stock.close:.2f}\" if stock.close else \"N/A\",\n                    'Currency': stock.currency or \"N/A\",\n                    'Market Cap': f\"{stock.market_cap_basic:,.0f}\" if stock.market_cap_basic else \"N/A\",\n                    'P/E': f\"{stock.price_earnings_ttm:.2f}\" if stock.price_earnings_ttm else \"N/A\",\n                    'Sector': stock.sector or \"N/A\"\n                })\n        \n        regional_df = pd.DataFrame(regional_data)\n        \n        print(\"\\n🏆 Top Stocks by Market Cap (Asia Pacific):\")\n        print(\"=\" * 120)\n        \n        # Display by market\n        for market_name in regional_df['Market'].unique():\n            market_stocks = regional_df[regional_df['Market'] == market_name]\n            print(f\"\\n{market_name}:\")\n            print(market_stocks[['Rank', 'Symbol', 'Price', 'Currency', 'Market Cap', 'Sector']].to_string(index=False))\n        \n        return all_results\n        \n    except Exception as e:\n        print(f\"❌ Error: {e}\")\n        return {}\n\n# Run the regional scan\nregional_data = await regional_market_scan_demo()",
   "metadata": {},
   "execution_count": null,
   "outputs": []
  },
  {
   "cell_type": "markdown",
   "id": "5frlp0s3obw",
   "source": "## Market Scan by ID Example\n\nSometimes it's more convenient to use market ID strings directly. Let's demonstrate this approach.",
   "metadata": {}
  },
  {
   "cell_type": "code",
   "id": "xa8ln4pds6",
   "source": "async def market_by_id_demo():\n    \"\"\"Demonstrate using market by ID string.\"\"\"\n    print(\"🔤 Market Scanner - By ID Example\")\n    print(\"=\" * 50)\n    \n    try:\n        service = ScannerService()\n        \n        request = create_scanner_request(\n            columns=ColumnSets.BASIC + [\"market_cap_basic\", \"sector\"],\n            sort_by=\"market_cap_basic\",\n            sort_order=\"desc\",\n            range_end=5\n        )\n        \n        # Using market ID strings - useful for dynamic market selection\n        market_ids = [\"thailand\", \"brazil\", \"germany\", \"france\", \"canada\"]\n        \n        market_id_results = []\n        \n        for market_id in market_ids:\n            print(f\"\\n🌐 Scanning '{market_id}' market...\")\n            \n            try:\n                response = await service.scan_market_by_id(market_id, request)\n                \n                print(f\"✅ Found {len(response.data)} stocks\")\n                \n                if response.data:\n                    for i, stock in enumerate(response.data[:3], 1):  # Top 3\n                        market_id_results.append({\n                            'Market': market_id.title(),\n                            'Rank': i,\n                            'Symbol': stock.name,\n                            'Price': f\"{stock.close:.2f} {stock.currency}\" if stock.close else \"N/A\",\n                            'Market Cap': f\"{stock.market_cap_basic:,.0f}\" if stock.market_cap_basic else \"N/A\",\n                            'Sector': stock.sector or \"N/A\"\n                        })\n                    \n                    top_stock = response.data[0]\n                    print(f\"   Top stock: {top_stock.name} - {top_stock.close} {top_stock.currency}\")\n                    if top_stock.market_cap_basic:\n                        print(f\"   Market Cap: ${top_stock.market_cap_basic:,.0f}\")\n                        \n            except ValueError as e:\n                print(f\"   ❌ Invalid market ID: {e}\")\n            except Exception as e:\n                print(f\"   ❌ Error scanning {market_id}: {e}\")\n        \n        # Display results in a nice table\n        if market_id_results:\n            results_df = pd.DataFrame(market_id_results)\n            print(\"\\n📊 Market Leaders by ID:\")\n            print(\"=\" * 100)\n            print(results_df.to_string(index=False))\n        \n        return market_id_results\n        \n    except Exception as e:\n        print(f\"❌ Error: {e}\")\n        return []\n\n# Run the market by ID scan\nmarket_id_data = await market_by_id_demo()",
   "metadata": {},
   "execution_count": null,
   "outputs": []
  },
  {
   "cell_type": "markdown",
   "id": "yudxp6kp94n",
   "source": "## Available Markets Information Example\n\nLet's explore all available markets and their regional distribution.",
   "metadata": {}
  },
  {
   "cell_type": "code",
   "id": "la7r1yr8ooi",
   "source": "def display_available_markets_info():\n    \"\"\"Display comprehensive information about available markets.\"\"\"\n    print(\"🗺️  Available Markets Information\")\n    print(\"=\" * 50)\n    \n    try:\n        all_markets = get_all_markets()\n        print(f\"Total available markets: {len(all_markets)}\")\n        \n        # Group by region with detailed info\n        regions = {\n            MarketRegion.NORTH_AMERICA: \"🇺🇸 North America\",\n            MarketRegion.EUROPE: \"🇪🇺 Europe\",\n            MarketRegion.ASIA_PACIFIC: \"🌏 Asia Pacific\", \n            MarketRegion.MIDDLE_EAST_AFRICA: \"🕌 Middle East & Africa\",\n            MarketRegion.MEXICO_SOUTH_AMERICA: \"🌎 Mexico & South America\",\n        }\n        \n        market_summary = []\n        \n        for region, region_name in regions.items():\n            markets = get_markets_by_region(region)\n            print(f\"\\n{region_name}: {len(markets)} markets\")\n            \n            region_markets = []\n            for market in markets:\n                info = MARKET_INFO.get(market)\n                if info:\n                    exchanges = \", \".join(info.exchanges[:2])  # Show first 2 exchanges\n                    if len(info.exchanges) > 2:\n                        exchanges += f\" (+{len(info.exchanges) - 2} more)\"\n                    \n                    region_markets.append({\n                        'Region': region_name,\n                        'Market': info.name,\n                        'ID': market.value,\n                        'Exchanges': exchanges,\n                        'Total Exchanges': len(info.exchanges)\n                    })\n                    \n                    print(f\"  • {info.name} ({market.value}): {exchanges}\")\n            \n            market_summary.extend(region_markets[:5])  # Top 5 per region for summary\n        \n        # Create summary DataFrame\n        summary_df = pd.DataFrame(market_summary)\n        \n        print(\"\\n📊 Market Summary (Top 5 per Region):\")\n        print(\"=\" * 120)\n        print(summary_df.to_string(index=False))\n        \n        # Regional statistics\n        print(\"\\n📈 Regional Statistics:\")\n        for region, region_name in regions.items():\n            markets = get_markets_by_region(region)\n            total_exchanges = sum(len(MARKET_INFO.get(m, type('obj', (object,), {'exchanges': []})).exchanges) for m in markets)\n            print(f\"  {region_name}: {len(markets)} markets, {total_exchanges} total exchanges\")\n        \n        return summary_df\n        \n    except Exception as e:\n        print(f\"❌ Error: {e}\")\n        return pd.DataFrame()\n\n# Display market information\nmarket_info_summary = display_available_markets_info()",
   "metadata": {},
   "execution_count": null,
   "outputs": []
  },
  {
   "cell_type": "markdown",
   "id": "5lrtybaq89n",
   "source": "## Running All Examples with Async Main\n\nLet's create a comprehensive main function that runs all examples and provides a complete overview.",
   "metadata": {}
  },
  {
   "cell_type": "code",
   "id": "lnalbi1grb8",
   "source": "async def run_all_scanner_examples():\n    \"\"\"Run all scanner examples in sequence.\"\"\"\n    print(\"Multi-Market Scanner Examples - Complete Demo\")\n    print(\"=\" * 60)\n    print(\"This comprehensive demo showcases the tvkit scanner service\")\n    print(\"capabilities across global markets using TradingView's API.\")\n    print()\n    \n    # Track all results\n    demo_results = {\n        'basic_scan': None,\n        'comprehensive_scan': None,\n        'regional_scan': None,\n        'id_scan': None\n    }\n    \n    try:\n        # 1. Basic Market Scan \n        print(\"\\n\" + \"=\"*60)\n        print(\"1️⃣  BASIC MARKET SCAN\")\n        print(\"=\"*60)\n        thailand_data, usa_data = await basic_market_scan_demo()\n        demo_results['basic_scan'] = {'thailand': thailand_data, 'usa': usa_data}\n        \n        # 2. Comprehensive Market Scan\n        print(\"\\n\" + \"=\"*60)\n        print(\"2️⃣  COMPREHENSIVE MARKET SCAN\")\n        print(\"=\"*60)\n        comprehensive_data = await comprehensive_market_scan_demo()\n        demo_results['comprehensive_scan'] = comprehensive_data\n        \n        # 3. Regional Market Scan\n        print(\"\\n\" + \"=\"*60)\n        print(\"3️⃣  REGIONAL MARKET SCAN\")\n        print(\"=\"*60)\n        regional_data = await regional_market_scan_demo()\n        demo_results['regional_scan'] = regional_data\n        \n        # 4. Market by ID Scan\n        print(\"\\n\" + \"=\"*60)\n        print(\"4️⃣  MARKET BY ID SCAN\")\n        print(\"=\"*60)\n        market_id_data = await market_by_id_demo()\n        demo_results['id_scan'] = market_id_data\n        \n        # 5. Available Markets Info\n        print(\"\\n\" + \"=\"*60)\n        print(\"5️⃣  AVAILABLE MARKETS INFO\")\n        print(\"=\"*60)\n        market_info_summary = display_available_markets_info()\n        \n        # Final Summary\n        print(\"\\n\" + \"=\"*60)\n        print(\"🎉 ALL EXAMPLES COMPLETED SUCCESSFULLY!\")\n        print(\"=\"*60)\n        \n        print(\"\\n📊 Demo Summary:\")\n        basic_count = len(demo_results['basic_scan']['thailand'].data) if demo_results['basic_scan'] and demo_results['basic_scan']['thailand'] else 0\n        comp_count = sum(len(stocks) for stocks in demo_results['comprehensive_scan'].values()) if demo_results['comprehensive_scan'] else 0\n        regional_count = sum(len(stocks) for stocks in demo_results['regional_scan'].values()) if demo_results['regional_scan'] else 0\n        id_count = len(demo_results['id_scan']) if demo_results['id_scan'] else 0\n        \n        print(f\"  • Basic scan: {basic_count} Thailand stocks + USA comparison\")\n        print(f\"  • Comprehensive scan: {comp_count} stocks across 4 Asian markets\")\n        print(f\"  • Regional scan: {regional_count} stocks across Asia Pacific\")\n        print(f\"  • ID-based scan: {id_count} results across 5 global markets\")\n        print(f\"  • Market info: {len(Market)} total markets across {len(MarketRegion)} regions\")\n        \n        print(\"\\n🔗 Key Features Demonstrated:\")\n        print(\"  ✅ Multi-market scanning with Market enum\")\n        print(\"  ✅ Comprehensive data retrieval (70+ columns)\")\n        print(\"  ✅ Regional market analysis and filtering\")\n        print(\"  ✅ Dynamic market selection by ID strings\")\n        print(\"  ✅ Error handling and retry mechanisms\")\n        print(\"  ✅ Data formatting and pandas integration\")\n        \n        print(\"\\n📝 Notes:\")\n        print(\"  • All examples require internet connection\")\n        print(\"  • TradingView scanner API access needed\")\n        print(\"  • Market data updates in real-time\")\n        print(\"  • Service includes automatic retry logic\")\n        print(\"  • Supports 70+ financial data columns\")\n        \n        return demo_results\n        \n    except Exception as e:\n        print(f\"\\n❌ Demo Error: {e}\")\n        print(\"\\n🔧 Troubleshooting Tips:\")\n        print(\"  • Check internet connection\")\n        print(\"  • Verify TradingView API accessibility\")\n        print(\"  • Try reducing request range (range_end parameter)\")\n        print(\"  • Check for API rate limiting\")\n        return demo_results\n\n# Run the complete demo\nall_demo_results = await run_all_scanner_examples()",
   "metadata": {},
   "execution_count": null,
   "outputs": []
  },
  {
   "cell_type": "markdown",
   "id": "pfmtvmzsmf",
   "source": "## Notes on Service Requirements and Supported Markets\n\n### Service Requirements:\n- **Internet Connection**: Required for TradingView API access\n- **Python 3.13+**: Async/await support needed\n- **Dependencies**: `tvkit`, `pandas`, `httpx`, `websockets`\n\n### Key Features:\n- **70+ Data Columns**: Comprehensive financial metrics\n- **Global Coverage**: 50+ markets across 5 regions\n- **Real-time Data**: Live market information\n- **Type Safety**: Pydantic models with full validation\n- **Error Handling**: Automatic retries with exponential backoff\n- **Flexible Queries**: Sort, filter, and paginate results\n\n### Supported Markets:\n- **North America**: USA, Canada\n- **Europe**: Germany, France, UK, Netherlands, etc.\n- **Asia Pacific**: Thailand, Japan, Singapore, Korea, Australia, India\n- **Middle East & Africa**: UAE, Saudi Arabia, South Africa\n- **Latin America**: Brazil, Mexico, Argentina\n\n### Usage Tips:\n1. Use `Market` enum for type-safe market selection\n2. Start with `ColumnSets.BASIC` for simple queries\n3. Use `create_comprehensive_request()` for full analysis\n4. Implement proper error handling for production use\n5. Consider API rate limits for high-frequency requests\n\n### Next Steps:\n- Explore specific market analysis use cases\n- Integrate with data visualization libraries\n- Build custom screening strategies\n- Export data for further analysis\n- Set up automated market monitoring",
   "metadata": {}
  }
 ],
 "metadata": {
  "language_info": {
   "name": "python"
  }
 },
 "nbformat": 4,
 "nbformat_minor": 5
}